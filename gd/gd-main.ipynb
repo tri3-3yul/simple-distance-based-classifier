{
 "cells": [
  {
   "cell_type": "code",
   "execution_count": 1,
   "metadata": {},
   "outputs": [],
   "source": [
    "class SimpleDistanceBasedClassifier:\n",
    "    def __init__(self):\n",
    "        self.data = []\n",
    "\n",
    "    def fit(self, X, y):\n",
    "        # Menyimpan data pelatihan\n",
    "        for features, label in zip(X, y):\n",
    "            self.data.append((features, label))\n",
    "\n",
    "    def predict(self, X):\n",
    "        predictions = []\n",
    "        for point in X:\n",
    "            closest_distance = float('inf')\n",
    "            closest_label = None\n",
    "\n",
    "            for features, label in self.data:\n",
    "                # Menghitung jarak Euclidean\n",
    "                distance = self.euclidean_distance(features, point)\n",
    "\n",
    "                if distance < closest_distance:\n",
    "                    closest_distance = distance\n",
    "                    closest_label = label\n",
    "\n",
    "            predictions.append(closest_label)\n",
    "        return predictions\n",
    "\n",
    "    def euclidean_distance(self, point1, point2):\n",
    "        distance = 0\n",
    "        for i in range(len(point1)):\n",
    "            distance += (point1[i] - point2[i]) ** 2\n",
    "        return self.sqrt(distance)\n",
    "\n",
    "    def sqrt(self, value):\n",
    "        # Implementasi sederhana dari metode Newton-Raphson untuk menghitung akar kuadrat\n",
    "        if value < 0:\n",
    "            raise ValueError(\"Cannot compute square root of a negative number\")\n",
    "        tolerance = 1e-10\n",
    "        guess = value / 2.0\n",
    "        while abs(guess * guess - value) > tolerance:\n",
    "            guess = (guess + value / guess) / 2.0\n",
    "        return guess"
   ]
  },
  {
   "cell_type": "code",
   "execution_count": 3,
   "metadata": {},
   "outputs": [
    {
     "name": "stdout",
     "output_type": "stream",
     "text": [
      "Hasil: goofy\n"
     ]
    }
   ],
   "source": [
    "# penggunaan\n",
    "if __name__ == \"__main__\":\n",
    "    # Data pelatihan: fitur dan label\n",
    "    X_train = [\n",
    "        [180, 70],\n",
    "        [185, 67],\n",
    "        [192, 73],\n",
    "        [150, 100],\n",
    "        [160, 112],\n",
    "        [145, 130]\n",
    "    ]\n",
    "    y_train = ['goofy', 'goofy', 'goofy', 'doraemon', 'doraemon', 'doraemon']\n",
    "\n",
    "    # Data uji\n",
    "    X_test = [[181, 65]]\n",
    "\n",
    "    # Membuat dan melatih classifier\n",
    "    classifier = SimpleDistanceBasedClassifier()\n",
    "    classifier.fit(X_train, y_train)\n",
    "\n",
    "    # Memprediksi label untuk data uji\n",
    "    predictions = classifier.predict(X_test)\n",
    "    print(\"Hasil:\", predictions[0])  # Karena hanya ada satu objek dalam X_test, kita ambil hasil prediksi pertama"
   ]
  }
 ],
 "metadata": {
  "kernelspec": {
   "display_name": "Python 3",
   "language": "python",
   "name": "python3"
  },
  "language_info": {
   "codemirror_mode": {
    "name": "ipython",
    "version": 3
   },
   "file_extension": ".py",
   "mimetype": "text/x-python",
   "name": "python",
   "nbconvert_exporter": "python",
   "pygments_lexer": "ipython3",
   "version": "3.12.2"
  }
 },
 "nbformat": 4,
 "nbformat_minor": 2
}
